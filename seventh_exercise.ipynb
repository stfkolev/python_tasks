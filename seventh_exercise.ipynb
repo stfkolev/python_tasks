{
 "metadata": {
  "language_info": {
   "codemirror_mode": {
    "name": "ipython",
    "version": 3
   },
   "file_extension": ".py",
   "mimetype": "text/x-python",
   "name": "python",
   "nbconvert_exporter": "python",
   "pygments_lexer": "ipython3",
   "version": "3.9.0-final"
  },
  "orig_nbformat": 2,
  "kernelspec": {
   "name": "python390jvsc74a57bd0b697c9060a7d8796bff82e893694dad8ca5af1e321f9e3f0c6cd8939b3c3c614",
   "display_name": "Python 3.9.0 64-bit"
  }
 },
 "nbformat": 4,
 "nbformat_minor": 2,
 "cells": [
  {
   "source": [
    "## <center> Seventh Exercise </center>"
   ],
   "cell_type": "markdown",
   "metadata": {}
  },
  {
   "source": [
    "### Main Exercise"
   ],
   "cell_type": "markdown",
   "metadata": {}
  },
  {
   "cell_type": "code",
   "execution_count": 488,
   "metadata": {},
   "outputs": [],
   "source": [
    "class Person:\n",
    "    def __new__(cls, data:)\n",
    "    def __init__(self, name, birthYear, gender, father=None, mother=None):\n",
    "        self.name = name\n",
    "\n",
    "        self.birthYear = birthYear\n",
    "        self.gender = gender\n",
    "\n",
    "        self.mother = mother\n",
    "        self.father = father\n",
    "\n",
    "        for parent in [father, mother]:\n",
    "            if parent:\n",
    "                parent.addChildren(self)\n",
    "\n",
    "        self.childrenList = []\n",
    "\n",
    "    def addChildren(self, *args):\n",
    "        self.childrenList.extend(args)\n",
    "\n",
    "    def children(self, gender=\"\"):\n",
    "        return [child for child in self.childrenList if not gender or child.gender == gender]\n",
    "\n",
    "    def siblings(self, gender=\"\"):\n",
    "        siblings = []\n",
    "\n",
    "        for parent in [self.father, self.mother]:\n",
    "            if parent:\n",
    "                siblings.extend(parent.children(gender))\n",
    "\n",
    "        return set([child for child in siblings if child is not self])\n",
    "\n",
    "    def get(self, isBrother=False):\n",
    "        return [self.siblings(\"M\") if isBrother else self.siblings(\"F\")]\n",
    "        \n",
    "    def is_direct_successor(self, person):\n",
    "        return person in self.children() or self in person.children()\n",
    "\n",
    "    def __str__(self):\n",
    "        return f'Name: {self.name} -- Birth Year: {self.birthYear} -- Gender: {self.gender}'\n",
    "        \n",
    "father = Person('Gosho', '1734', 'M')\n",
    "mother = Person('Toshka', '1737', 'F')\n",
    "\n",
    "firstChild = Person('Tosho', '1769', 'M', father, mother)\n",
    "# secondChild = Person('Chochka', '1767', 'F', father, mother)\n",
    "\n",
    "father.addChildren(firstChild)\n",
    "# father.addChildren(secondChild)\n",
    "\n",
    "mother.addChildren(firstChild)\n",
    "# father.addChildren(secondChild)\n",
    "\n",
    "for sisters in firstChild.get():\n",
    "    for sister in sisters:\n",
    "        print(sister)\n",
    "\n",
    "# for brothers in secondChild.get(isBrother=True):\n",
    "#     for brother in brothers:\n",
    "#         print(brother)"
   ]
  },
  {
   "source": [
    "## <center> Extra Exercises </center>"
   ],
   "cell_type": "markdown",
   "metadata": {}
  },
  {
   "source": [
    "## Importing libraries"
   ],
   "cell_type": "markdown",
   "metadata": {}
  },
  {
   "cell_type": "code",
   "execution_count": 474,
   "metadata": {},
   "outputs": [],
   "source": [
    "from math import floor, inf, pi\n",
    "from itertools import combinations\n",
    "# import sys\n",
    "# !{sys.executable} -m pip install roman"
   ]
  },
  {
   "source": [
    "### First Exercise"
   ],
   "cell_type": "markdown",
   "metadata": {}
  },
  {
   "cell_type": "code",
   "execution_count": 475,
   "metadata": {
    "tags": []
   },
   "outputs": [
    {
     "output_type": "stream",
     "name": "stdout",
     "text": [
      "MMMMCCCXXXV\n"
     ]
    }
   ],
   "source": [
    "class Convert(int):\n",
    "    def __init__(self) -> None:\n",
    "        self.lettersMapping = {\n",
    "            'I': 1,\n",
    "            'V': 5,\n",
    "            'X': 10,\n",
    "            'L': 50,\n",
    "            'C': 100,\n",
    "            'D': 500,\n",
    "            'M': 1000 \n",
    "        }\n",
    "\n",
    "        self.numbersMapping = {\n",
    "            '1': ['', 'I', 'II', 'III', 'IV', 'V', 'VI', 'VII', 'VIII', 'IX'],\n",
    "            '10': ['', 'X', 'XX', 'XXX', 'XL', 'L', 'LX', 'LXX', 'LXXX', 'XC'],\n",
    "            '100': ['', 'C', 'CC', 'CCC', 'CD', 'D', 'DC', 'DCC', 'DCCC', 'CM'],\n",
    "            '1000': ['', 'M', 'MM', 'MMM', 'MMMM']\n",
    "        }\n",
    "\n",
    "    def toRoman(self, number: int) -> str:\n",
    "        result = self.numbersMapping.get('1000') [floor(number / 1000)]\n",
    "        result += self.numbersMapping.get('100') [floor((number % 1000) / 100)]\n",
    "        result += self.numbersMapping.get('10') [floor((number % 100) / 10)] \n",
    "        result += self.numbersMapping.get('1') [floor(number % 10)] \n",
    "\n",
    "        return result\n",
    "    \n",
    "    def toDecimal(self, number: str) -> int:\n",
    "        result, previousResult = 0, 0\n",
    "\n",
    "        for character in reversed(number):\n",
    "            result = (result + self.lettersMapping[character] if self.lettersMapping[character] >= previousResult else result - self.lettersMapping[character])\n",
    "            previousResult = self.lettersMapping[character]\n",
    "        \n",
    "        return result\n",
    "\n",
    "print(Convert().toRoman(4335))\n"
   ]
  },
  {
   "source": [
    "### Second Exercise"
   ],
   "cell_type": "markdown",
   "metadata": {}
  },
  {
   "cell_type": "code",
   "execution_count": 476,
   "metadata": {},
   "outputs": [
    {
     "output_type": "stream",
     "name": "stdout",
     "text": [
      "4335\n"
     ]
    }
   ],
   "source": [
    "print(Convert().toDecimal(\"MMMMCCCXXXV\"))"
   ]
  },
  {
   "source": [
    "### Third Exercise"
   ],
   "cell_type": "markdown",
   "metadata": {}
  },
  {
   "cell_type": "code",
   "execution_count": 477,
   "metadata": {},
   "outputs": [
    {
     "output_type": "stream",
     "name": "stdout",
     "text": [
      "True\nTrue\nFalse\n"
     ]
    }
   ],
   "source": [
    "class ExpressionChecker:\n",
    "    \n",
    "    @staticmethod\n",
    "    def result(expression: str):\n",
    "        bracesMap = dict(zip(tuple('({['), tuple(')}]')))\n",
    "        braces = []\n",
    "\n",
    "        for character in expression:\n",
    "            if character in bracesMap:\n",
    "                braces.append(bracesMap[character])\n",
    "            elif not (braces and character == braces.pop()):\n",
    "                return False\n",
    "        \n",
    "        return not braces\n",
    "\n",
    "\n",
    "print(ExpressionChecker.result('()'))\n",
    "print(ExpressionChecker.result('(){}[]'))\n",
    "print(ExpressionChecker.result('()[{)}'))"
   ]
  },
  {
   "source": [
    "### Fourth Exercise"
   ],
   "cell_type": "markdown",
   "metadata": {}
  },
  {
   "cell_type": "code",
   "execution_count": 478,
   "metadata": {},
   "outputs": [
    {
     "output_type": "execute_result",
     "data": {
      "text/plain": [
       "[[], [4], [5], [6], [4, 5], [4, 6], [5, 6], [4, 5, 6]]"
      ]
     },
     "metadata": {},
     "execution_count": 478
    }
   ],
   "source": [
    "class UniqueNumbers(list):\n",
    "    def __new__(cls, numbers: list):\n",
    "        return super().__new__(cls, sorted(numbers))\n",
    "\n",
    "    def __init__(self, numbers: list):\n",
    "        self.result = []\n",
    "\n",
    "        for number in range(len(numbers) + 1):\n",
    "            for index in combinations(numbers, number):\n",
    "                self.result.append(list(index))\n",
    "\n",
    "UniqueNumbers([4, 5, 6]).result"
   ]
  },
  {
   "source": [
    "### Fifth Exercise"
   ],
   "cell_type": "markdown",
   "metadata": {}
  },
  {
   "cell_type": "code",
   "execution_count": 479,
   "metadata": {},
   "outputs": [
    {
     "output_type": "stream",
     "name": "stdout",
     "text": [
      "Indexes: [0, 1] -- firstNumber: 10 -- secondNumber: 40\nIndexes: [2, 3] -- firstNumber: 25 -- secondNumber: 25\nIndexes: [6, 7] -- firstNumber: 30 -- secondNumber: 20\n"
     ]
    }
   ],
   "source": [
    "class NumbersSum:\n",
    "    def __init__(self, numbers: list, sum: int):\n",
    "        iterableNumbers = iter(numbers)\n",
    "        counter = 0\n",
    "\n",
    "        for firstNumber, secondNumber in zip(iterableNumbers, iterableNumbers):\n",
    "            counter += 2\n",
    "\n",
    "            if firstNumber + secondNumber == sum:\n",
    "                print(f'Indexes: [{counter - 2}, {counter - 1}] -- firstNumber: {firstNumber} -- secondNumber: {secondNumber}')\n",
    "                \n",
    "\n",
    "result = NumbersSum(list([10, 40, 25, 25, 50, 10, 30, 20]), 50)"
   ]
  },
  {
   "source": [
    "### Sixth Exercise"
   ],
   "cell_type": "markdown",
   "metadata": {}
  },
  {
   "cell_type": "code",
   "execution_count": 480,
   "metadata": {
    "tags": []
   },
   "outputs": [
    {
     "output_type": "stream",
     "name": "stdout",
     "text": [
      "[(-10, 2, 8), (-7, -3, 10)]\n"
     ]
    }
   ],
   "source": [
    "numbers = [-25, -10, -7, -3, 2, 4, 8, 10, 51.3]\n",
    "\n",
    "result = []\n",
    "\n",
    "for index in combinations(numbers, r=3):\n",
    "    if sum(index) == 0:\n",
    "        result.append(index)\n",
    "\n",
    "print(result)"
   ]
  },
  {
   "source": [
    "### Seventh Exercise"
   ],
   "cell_type": "markdown",
   "metadata": {}
  },
  {
   "cell_type": "code",
   "execution_count": 481,
   "metadata": {},
   "outputs": [
    {
     "output_type": "stream",
     "name": "stdout",
     "text": [
      "81\n"
     ]
    }
   ],
   "source": [
    "class Mathemathics:\n",
    "    @staticmethod\n",
    "    def powerOfN(number: int, raiser: int, *args):\n",
    "\n",
    "        return number ** raiser if not args else (number ** raiser) % 5\n",
    "\n",
    "print(Mathemathics.powerOfN(3, 4))"
   ]
  },
  {
   "source": [
    "### Eighth Exercise"
   ],
   "cell_type": "markdown",
   "metadata": {}
  },
  {
   "cell_type": "code",
   "execution_count": 482,
   "metadata": {},
   "outputs": [
    {
     "output_type": "execute_result",
     "data": {
      "text/plain": [
       "'example .py test'"
      ]
     },
     "metadata": {},
     "execution_count": 482
    }
   ],
   "source": [
    "class StringReverser(str):\n",
    "    def __new__(cls, message: str):\n",
    "        return super().__new__(cls, message)\n",
    "\n",
    "    def __init__(self, message: str):\n",
    "        self.result = ' '.join([index for index in message.split(' ')[::-1]])\n",
    "\n",
    "StringReverser('test .py example').result"
   ]
  },
  {
   "source": [
    "### Ninth Exercise"
   ],
   "cell_type": "markdown",
   "metadata": {}
  },
  {
   "source": [
    "class StringOps:\n",
    "    def __init__(self):\n",
    "        self.message = ''\n",
    "\n",
    "    def getString(self, message: str):\n",
    "        self.message = message\n",
    "    \n",
    "    def printString(self):\n",
    "        print(self.message.upper())\n",
    "stringOps = StringOps()\n",
    "\n",
    "stringOps.getString('test')\n",
    "stringOps.printString()\n"
   ],
   "cell_type": "code",
   "metadata": {},
   "execution_count": 483,
   "outputs": [
    {
     "output_type": "stream",
     "name": "stdout",
     "text": [
      "TEST\n"
     ]
    }
   ]
  },
  {
   "source": [
    "### Tenth Exercise"
   ],
   "cell_type": "markdown",
   "metadata": {}
  },
  {
   "cell_type": "code",
   "execution_count": 484,
   "metadata": {},
   "outputs": [
    {
     "output_type": "stream",
     "name": "stdout",
     "text": [
      "Width: 4 -- Length: 3 -- Area: 12\n"
     ]
    }
   ],
   "source": [
    "class RectangleShape(tuple):\n",
    "    def __new__(cls, params: tuple):\n",
    "        return super().__new__(cls, params)\n",
    "\n",
    "    def __init__(self, params: tuple):\n",
    "        self.width = params[0]\n",
    "        self.length = params[1]\n",
    "\n",
    "    def calculateArea(self):\n",
    "        return self.width * self.length\n",
    "\n",
    "rectangle = RectangleShape((4,3))\n",
    "print(f'Width: {rectangle.width} -- Length: {rectangle.length} -- Area: {rectangle.calculateArea()}')"
   ]
  },
  {
   "source": [
    "### Eleventh Exercise"
   ],
   "cell_type": "markdown",
   "metadata": {}
  },
  {
   "cell_type": "code",
   "execution_count": 485,
   "metadata": {},
   "outputs": [
    {
     "output_type": "stream",
     "name": "stdout",
     "text": [
      "Radius: 3 -- Area: 28.27 -- Perimeter: 18.85\n"
     ]
    }
   ],
   "source": [
    "class CircleShape(int):\n",
    "    def __new__(cls, radius: int):\n",
    "        return super().__new__(cls, radius)\n",
    "\n",
    "    def __init__(self, radius: int):\n",
    "        self.radius = radius\n",
    "\n",
    "    def calculateArea(self):\n",
    "        return round(math.pi * (self.radius ** 2), 2)\n",
    "\n",
    "    def calculatePerimeter(self):\n",
    "        return round(2 * math.pi * self.radius, 2)\n",
    "\n",
    "circle = CircleShape(3)\n",
    "\n",
    "print(f'Radius: {circle.radius} -- Area: {circle.calculateArea()} -- Perimeter: {circle.calculatePerimeter()}')"
   ]
  }
 ]
}