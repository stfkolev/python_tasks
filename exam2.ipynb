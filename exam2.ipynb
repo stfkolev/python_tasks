{
 "metadata": {
  "language_info": {
   "codemirror_mode": {
    "name": "ipython",
    "version": 3
   },
   "file_extension": ".py",
   "mimetype": "text/x-python",
   "name": "python",
   "nbconvert_exporter": "python",
   "pygments_lexer": "ipython3",
   "version": "3.9.0"
  },
  "orig_nbformat": 2,
  "kernelspec": {
   "name": "python390jvsc74a57bd0b697c9060a7d8796bff82e893694dad8ca5af1e321f9e3f0c6cd8939b3c3c614",
   "display_name": "Python 3.9.0 64-bit"
  }
 },
 "nbformat": 4,
 "nbformat_minor": 2,
 "cells": [
  {
   "cell_type": "code",
   "execution_count": 19,
   "metadata": {},
   "outputs": [
    {
     "output_type": "stream",
     "name": "stdout",
     "text": [
      "Requirement already satisfied: Faker in c:\\users\\stefan.kolev\\appdata\\local\\programs\\python\\python39\\lib\\site-packages (8.1.0)WARNING: You are using pip version 20.2.3; however, version 21.1.1 is available.\n",
      "You should consider upgrading via the 'C:\\Users\\stefan.kolev\\AppData\\Local\\Programs\\Python\\Python39\\python.exe -m pip install --upgrade pip' command.\n",
      "\n",
      "Requirement already satisfied: text-unidecode==1.3 in c:\\users\\stefan.kolev\\appdata\\local\\programs\\python\\python39\\lib\\site-packages (from Faker) (1.3)\n",
      "Requirement already satisfied: python-dateutil>=2.4 in c:\\users\\stefan.kolev\\appdata\\local\\programs\\python\\python39\\lib\\site-packages (from Faker) (2.8.1)\n",
      "Requirement already satisfied: six>=1.5 in c:\\users\\stefan.kolev\\appdata\\local\\programs\\python\\python39\\lib\\site-packages (from python-dateutil>=2.4->Faker) (1.15.0)\n"
     ]
    }
   ],
   "source": [
    "import sys\n",
    "from datetime import date\n",
    "!{sys.executable} -m pip install Faker\n",
    "from faker import Faker"
   ]
  },
  {
   "cell_type": "code",
   "execution_count": 34,
   "metadata": {},
   "outputs": [
    {
     "output_type": "stream",
     "name": "stdout",
     "text": [
      "Book ID: 6821 -- Publisher: Miller-Lewis -- Title: describe.mp3 -- Author: Donna Gray -- Pick Up Date: 2021-04-08 -- Drop Off Date: 2021-05-01\n",
      "Book ID: 3489 -- Publisher: Walker, Brown and Moore -- Title: baby.jpeg -- Author: Gary Morris -- Pick Up Date: 2021-03-29 -- Drop Off Date: 2021-03-30\n",
      "Book ID: 60 -- Publisher: Andrews and Sons -- Title: blood.tiff -- Author: Robin Marshall -- Pick Up Date: 2021-02-02 -- Drop Off Date: 2021-03-21\n",
      "Book ID: 5408 -- Publisher: Knapp-Osborn -- Title: sister.bmp -- Author: Katherine Odonnell -- Pick Up Date: 2021-03-10 -- Drop Off Date: 2021-06-22\n",
      "Book ID: 1984 -- Publisher: Wade Group -- Title: realize.wav -- Author: Leonard Gordon -- Pick Up Date: 2021-04-27 -- Drop Off Date: 2021-09-03\n",
      "Book ID: 2294 -- Publisher: Oliver Ltd -- Title: tax.mp4 -- Author: Jeremy Smith -- Pick Up Date: 2021-03-09 -- Drop Off Date: 2021-06-05\n",
      "Book ID: 3274 -- Publisher: Brown-Miller -- Title: almost.flac -- Author: Allison Schultz -- Pick Up Date: 2021-01-04 -- Drop Off Date: 2021-05-12\n",
      "Book ID: 2068 -- Publisher: Baxter-Moore -- Title: type.pptx -- Author: Todd Smith -- Pick Up Date: 2021-04-01 -- Drop Off Date: 2021-05-02\n",
      "Book ID: 5856 -- Publisher: Moore, Combs and Foster -- Title: across.webm -- Author: David Love -- Pick Up Date: 2021-04-17 -- Drop Off Date: 2021-10-25\n",
      "Book ID: 370 -- Publisher: Scott Ltd -- Title: low.html -- Author: Dustin Chen -- Pick Up Date: 2021-01-16 -- Drop Off Date: 2021-12-07\n",
      "Found book: [Book ID: 60 -- Publisher: Andrews and Sons -- Title: blood.tiff -- Author: Robin Marshall -- Pick Up Date: 2021-02-02 -- Drop Off Date: 2021-03-21]\n",
      "Penalties for book 60 for 54 days is 108 kopeiki\n"
     ]
    }
   ],
   "source": [
    "from faker import Faker\n",
    "from datetime import date\n",
    "\n",
    "class Library:\n",
    "    def __init__(self):\n",
    "        self.bookId = 0\n",
    "        self.publisher = ''\n",
    "        self.title = ''\n",
    "        self.author = ''\n",
    "        self.pickUpDate = datetime.date.today()\n",
    "        self.dropOffDate = datetime.date.today()\n",
    "\n",
    "\n",
    "    ## Overrides\n",
    "    def __repr__(self):\n",
    "        return f'''Book ID: {self.bookId} -- Publisher: {self.publisher} -- Title: {self.title} -- Author: {self.author} -- Pick Up Date: {self.pickUpDate} -- Drop Off Date: {self.dropOffDate}'''\n",
    "    def __str__(self):\n",
    "        return f'''Book ID: {self.bookId} -- Publisher: {self.publisher} -- Title: {self.title} -- Author: {self.author} -- Pick Up Date: {self.pickUpDate} -- Drop Off Date: {self.dropOffDate}'''\n",
    "\n",
    "    ## Static Methods\n",
    "    @staticmethod\n",
    "    def importBooks():\n",
    "        books = []\n",
    "\n",
    "        for _ in range(10):\n",
    "            seeder = Faker()\n",
    "            book = Library()\n",
    "\n",
    "            book.bookId = seeder.random_int()\n",
    "            book.publisher = seeder.company()\n",
    "            book.title = seeder.file_name()\n",
    "            book.author = seeder.name()\n",
    "\n",
    "            randomChecker = seeder.random_int(0, 1)\n",
    "\n",
    "            book.pickUpDate = seeder.date_this_year(before_today=True)\n",
    "\n",
    "            if randomChecker == 0:\n",
    "                book.dropOffDate = seeder.date_between_dates(date_start=book.pickUpDate, date_end=datetime.date.today())\n",
    "            else:\n",
    "                book.dropOffDate = seeder.date_this_year(before_today=False, after_today=True)\n",
    "\n",
    "            books.append(book)\n",
    "\n",
    "        return books\n",
    "\n",
    "    @staticmethod\n",
    "    def getBookByIdAndAuthor(books: list, id: int, author: str):\n",
    "        return [book for book in books if book.bookId == id and book.author == author]\n",
    "\n",
    "    @staticmethod\n",
    "    def calculateDropOffDatePenalties(books: list, id: int):\n",
    "        foundBook = None\n",
    "        \n",
    "        for book in books:\n",
    "            if book.bookId == id:\n",
    "                foundBook = book\n",
    "                break\n",
    "\n",
    "        if foundBook.dropOffDate < datetime.date.today():\n",
    "            daysDifference = datetime.date.today() - foundBook.dropOffDate\n",
    "            return (daysDifference.days, daysDifference.days * 2)\n",
    "\n",
    "    \n",
    "books = Library.importBooks()\n",
    "\n",
    "for book in books:\n",
    "    print(book)\n",
    "\n",
    "bookIdToSearchFor = int(input())\n",
    "bookAuthorToSearchFor = input()\n",
    "\n",
    "book = Library.getBookByIdAndAuthor(books, bookIdToSearchFor, bookAuthorToSearchFor)\n",
    "penalties = Library.calculateDropOffDatePenalties(books, bookIdToSearchFor)\n",
    "\n",
    "print(f'Found book: {book}')\n",
    "\n",
    "\n",
    "bookIdToSearchFor = int(input())\n",
    "print(f'Penalties for book {bookIdToSearchFor} for {penalties[0]} days is {penalties[1]} kopeiki')"
   ]
  },
  {
   "cell_type": "code",
   "execution_count": null,
   "metadata": {},
   "outputs": [],
   "source": []
  }
 ]
}