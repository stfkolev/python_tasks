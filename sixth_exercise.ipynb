{
 "metadata": {
  "language_info": {
   "codemirror_mode": {
    "name": "ipython",
    "version": 3
   },
   "file_extension": ".py",
   "mimetype": "text/x-python",
   "name": "python",
   "nbconvert_exporter": "python",
   "pygments_lexer": "ipython3",
   "version": "3.9.0-final"
  },
  "orig_nbformat": 2,
  "kernelspec": {
   "name": "python390jvsc74a57bd0b697c9060a7d8796bff82e893694dad8ca5af1e321f9e3f0c6cd8939b3c3c614",
   "display_name": "Python 3.9.0 64-bit"
  }
 },
 "nbformat": 4,
 "nbformat_minor": 2,
 "cells": [
  {
   "source": [
    "## <center> Sixth Exercise </center>"
   ],
   "cell_type": "markdown",
   "metadata": {}
  },
  {
   "source": [
    "### Import third-party modules"
   ],
   "cell_type": "markdown",
   "metadata": {}
  },
  {
   "cell_type": "code",
   "execution_count": 2,
   "metadata": {},
   "outputs": [
    {
     "output_type": "stream",
     "name": "stdout",
     "text": [
      "Requirement already satisfied: lxml in c:\\users\\stefan.kolev\\appdata\\local\\programs\\python\\python39\\lib\\site-packages (4.6.2)\n",
      "WARNING: You are using pip version 20.2.3; however, version 21.0.1 is available.\n",
      "You should consider upgrading via the 'C:\\Users\\stefan.kolev\\AppData\\Local\\Programs\\Python\\Python39\\python.exe -m pip install --upgrade pip' command.\n"
     ]
    }
   ],
   "source": [
    "import sys\n",
    "!{sys.executable} -m pip install lxml\n",
    "\n",
    "import json\n",
    "\n",
    "from lxml import etree # XML Parser"
   ]
  },
  {
   "source": [
    "### First Exercise"
   ],
   "cell_type": "markdown",
   "metadata": {}
  },
  {
   "cell_type": "code",
   "execution_count": 3,
   "metadata": {},
   "outputs": [
    {
     "output_type": "stream",
     "name": "stdout",
     "text": [
      "Test\nTest2\nTest3\n"
     ]
    }
   ],
   "source": [
    "content = '''\n",
    "<data>\n",
    "    <user>\n",
    "        <name>Test</name>\n",
    "    </user>\n",
    "    <user>\n",
    "        <name>Test2</name>\n",
    "    </user>\n",
    "    <user>\n",
    "        <name>Test3</name>\n",
    "    </user>\n",
    "</data>\n",
    "'''\n",
    "\n",
    "users = []\n",
    "\n",
    "elements = etree.fromstring(content).findall('.//user')\n",
    "\n",
    "for element in elements:\n",
    "    for child in element.getchildren():\n",
    "        users.append(child.text)\n",
    "\n",
    "for user in users:\n",
    "    print(user)"
   ]
  },
  {
   "source": [
    "### Second Exercise"
   ],
   "cell_type": "markdown",
   "metadata": {}
  },
  {
   "cell_type": "code",
   "execution_count": 4,
   "metadata": {},
   "outputs": [
    {
     "output_type": "stream",
     "name": "stdout",
     "text": [
      "{'name': 'Bob', 'languages': ['English', 'Fench']}\n"
     ]
    }
   ],
   "source": [
    "jsonData = '''\n",
    "{\n",
    "    \"name\": \"Bob\",\n",
    "    \"languages\": [\"English\", \"Fench\"]\n",
    "}\n",
    "'''\n",
    "\n",
    "result = {}\n",
    "\n",
    "data = json.loads(jsonData)\n",
    "\n",
    "result[\"name\"] = data['name']\n",
    "result[\"languages\"] = data['languages']\n",
    "\n",
    "print(result)"
   ]
  },
  {
   "source": [
    "### Third Exercise"
   ],
   "cell_type": "markdown",
   "metadata": {}
  },
  {
   "cell_type": "code",
   "execution_count": 5,
   "metadata": {},
   "outputs": [
    {
     "output_type": "stream",
     "name": "stdout",
     "text": [
      "{'name': 'Bob', 'languages': ['English', 'Fench']}\n"
     ]
    }
   ],
   "source": [
    "data = {}\n",
    "\n",
    "with open('Person.json', 'w') as file:\n",
    "    file.write(json.dumps(result))\n",
    "\n",
    "with open('Person.json', 'r') as file:\n",
    "    data = json.loads(file.read())\n",
    "\n",
    "print(data)"
   ]
  },
  {
   "source": [
    "### Fourth Exercise"
   ],
   "cell_type": "markdown",
   "metadata": {}
  },
  {
   "cell_type": "code",
   "execution_count": 6,
   "metadata": {},
   "outputs": [
    {
     "output_type": "stream",
     "name": "stdout",
     "text": [
      "{'name': 'Bob', 'age': 12, 'children': None}\n"
     ]
    }
   ],
   "source": [
    "data = {\n",
    "    'name': 'Bob',\n",
    "    'age': 12,\n",
    "    'children': None\n",
    "}\n",
    "\n",
    "result = {}\n",
    "\n",
    "with open('Person2.json', 'w') as file:\n",
    "    file.write(json.dumps(data))\n",
    "\n",
    "with open('Person2.json', 'r') as file:\n",
    "    result = json.loads(file.read())\n",
    "    \n",
    "print(result)"
   ]
  },
  {
   "source": [
    "### Fifth Exercise"
   ],
   "cell_type": "markdown",
   "metadata": {}
  },
  {
   "cell_type": "code",
   "execution_count": 7,
   "metadata": {},
   "outputs": [
    {
     "output_type": "stream",
     "name": "stdout",
     "text": [
      "\n{\n    \"name\": \"Bob\",\n    \"languages\": [\"English\", \"Fench\"],\n    \"married\": True,\n    \"age\": 32\n}\n\n"
     ]
    }
   ],
   "source": [
    "data = '''\n",
    "{\n",
    "    \"name\": \"Bob\",\n",
    "    \"languages\": [\"English\", \"Fench\"],\n",
    "    \"married\": True,\n",
    "    \"age\": 32\n",
    "}\n",
    "'''\n",
    "\n",
    "result = {}\n",
    "\n",
    "with open('Person3.json', 'w') as file:\n",
    "    file.write(json.dumps(data))\n",
    "\n",
    "with open('Person3.json', 'r') as file:\n",
    "    result = json.loads(file.read())\n",
    "\n",
    "print(result)"
   ]
  },
  {
   "source": [
    "### Sixth Exercise"
   ],
   "cell_type": "markdown",
   "metadata": {}
  },
  {
   "cell_type": "code",
   "execution_count": 9,
   "metadata": {},
   "outputs": [
    {
     "output_type": "stream",
     "name": "stdout",
     "text": [
      "Expecting ',' delimiter: line 10 column 26 (char 214)\n\n{\n    \"api_version\": \"1.4\",\n    \"response_code\": \"200\",\n    \"id\": \"32374905133229753\",\n    \"lon\": \"18.969916127827\",\n    \"lat\": \"85.069889625267\",\n    \"page_url\": null,\n    \"name\": \"ATB\",\n    \"city_name\": \"Varna \"city\",\n------------------------^\n    \"city_id\": \"3237585002430511\",\n    \"address\": \"Business \"Park\",\n    \"created_at\": \"2021-04-06 11:17:04 07\",\n    \"updated_at\": \"2021-04-06 11:17:04 07\",\n}\n\n"
     ]
    }
   ],
   "source": [
    "corruptData = '''\n",
    "{\n",
    "    \"api_version\": \"1.4\",\n",
    "    \"response_code\": \"200\",\n",
    "    \"id\": \"32374905133229753\",\n",
    "    \"lon\": \"18.969916127827\",\n",
    "    \"lat\": \"85.069889625267\",\n",
    "    \"page_url\": null,\n",
    "    \"name\": \"ATB\",\n",
    "    \"city_name\": \"Varna \"city\",\n",
    "    \"city_id\": \"3237585002430511\",\n",
    "    \"address\": \"Business \"Park\",\n",
    "    \"created_at\": \"2021-04-06 11:17:04 07\",\n",
    "    \"updated_at\": \"2021-04-06 11:17:04 07\",\n",
    "}\n",
    "'''\n",
    "\n",
    "try:\n",
    "    json.loads(corruptData)\n",
    "except json.JSONDecodeError as exception:\n",
    "    jsonLines = corruptData.split('\\n') \n",
    "    jsonLines.insert(exception.lineno, ''.ljust(exception.colno - len(' ^'), '-') + '^')\n",
    "\n",
    "    print(exception)\n",
    "    print('\\n'.join(jsonLines))"
   ]
  },
  {
   "cell_type": "code",
   "execution_count": null,
   "metadata": {},
   "outputs": [],
   "source": []
  }
 ]
}