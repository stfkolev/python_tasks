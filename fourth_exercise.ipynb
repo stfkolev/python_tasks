{
 "metadata": {
  "language_info": {
   "codemirror_mode": {
    "name": "ipython",
    "version": 3
   },
   "file_extension": ".py",
   "mimetype": "text/x-python",
   "name": "python",
   "nbconvert_exporter": "python",
   "pygments_lexer": "ipython3",
   "version": "3.9.0-final"
  },
  "orig_nbformat": 2,
  "kernelspec": {
   "name": "python3",
   "display_name": "Python 3.9.0 64-bit",
   "metadata": {
    "interpreter": {
     "hash": "b697c9060a7d8796bff82e893694dad8ca5af1e321f9e3f0c6cd8939b3c3c614"
    }
   }
  }
 },
 "nbformat": 4,
 "nbformat_minor": 2,
 "cells": [
  {
   "source": [
    "# <center> Fourth Exercise </center>\n"
   ],
   "cell_type": "markdown",
   "metadata": {}
  },
  {
   "source": [
    "### Importing regex library"
   ],
   "cell_type": "markdown",
   "metadata": {}
  },
  {
   "cell_type": "code",
   "execution_count": 2,
   "metadata": {},
   "outputs": [],
   "source": [
    "import re as regexp"
   ]
  },
  {
   "source": [
    "### First exercise"
   ],
   "cell_type": "markdown",
   "metadata": {}
  },
  {
   "cell_type": "code",
   "execution_count": 12,
   "metadata": {},
   "outputs": [
    {
     "output_type": "stream",
     "name": "stdout",
     "text": [
      "<re.Match object; span=(0, 8), match='ani4ka92'>\n"
     ]
    }
   ],
   "source": [
    "print(regexp.search(r'([a-z]{3}\\d{1}[a-z]{2}[0-9]{2})', 'ani4ka92'))"
   ]
  },
  {
   "source": [
    "### Second Exercise"
   ],
   "cell_type": "markdown",
   "metadata": {}
  },
  {
   "cell_type": "code",
   "execution_count": 14,
   "metadata": {},
   "outputs": [
    {
     "output_type": "stream",
     "name": "stdout",
     "text": [
      "<re.Match object; span=(0, 8), match='17621707'>\n"
     ]
    }
   ],
   "source": [
    "print(regexp.search(r'([0-9]{8})', '17621707'))"
   ]
  },
  {
   "source": [
    "### Third Exercise"
   ],
   "cell_type": "markdown",
   "metadata": {}
  },
  {
   "cell_type": "code",
   "execution_count": 26,
   "metadata": {},
   "outputs": [
    {
     "output_type": "stream",
     "name": "stdout",
     "text": [
      "<re.Match object; span=(0, 15), match='Today is Monday'>\n"
     ]
    }
   ],
   "source": [
    "print(regexp.search(r'((\\w+\\s)*\\w+)?', 'Today is Monday'))"
   ]
  },
  {
   "source": [
    "### Fourth Exercise"
   ],
   "cell_type": "markdown",
   "metadata": {}
  },
  {
   "cell_type": "code",
   "execution_count": 30,
   "metadata": {},
   "outputs": [
    {
     "output_type": "stream",
     "name": "stdout",
     "text": [
      "<re.Match object; span=(17, 23), match='$10.00'>\n"
     ]
    }
   ],
   "source": [
    "print(regexp.search(r'([$]\\d+)(?:[.|,])?(\\d+)', 'We just received $10.00 for cookies'))"
   ]
  },
  {
   "source": [
    "### Fifth Exercise"
   ],
   "cell_type": "markdown",
   "metadata": {}
  },
  {
   "cell_type": "code",
   "execution_count": 31,
   "metadata": {},
   "outputs": [
    {
     "output_type": "stream",
     "name": "stdout",
     "text": [
      "<re.Match object; span=(0, 16), match='test@tu-varna.bg'>\n"
     ]
    }
   ],
   "source": [
    "print(regexp.search(r'(\\w+)[@](\\w+[-|_]?\\w+[.]\\w+)', 'test@tu-varna.bg'))"
   ]
  },
  {
   "source": [
    "### Sixth Exercise"
   ],
   "cell_type": "markdown",
   "metadata": {}
  },
  {
   "cell_type": "code",
   "execution_count": 50,
   "metadata": {},
   "outputs": [
    {
     "output_type": "stream",
     "name": "stdout",
     "text": [
      "<re.Match object; span=(0, 5), match='From:'>\n"
     ]
    }
   ],
   "source": [
    "message = 'From: somebody else who has F12m or Fxxm or F! @M'\n",
    "\n",
    "with open('test.txt', 'w') as file:\n",
    "    file.write(message)\n",
    "\n",
    "with open('test.txt', 'r') as file:\n",
    "    print(regexp.search(r'(?:([Ff])\\w+([Mm]))[:]?', file.read()))\n"
   ]
  },
  {
   "source": [
    "### Seventh Exercise"
   ],
   "cell_type": "markdown",
   "metadata": {}
  },
  {
   "cell_type": "code",
   "execution_count": 49,
   "metadata": {},
   "outputs": [
    {
     "output_type": "stream",
     "name": "stdout",
     "text": [
      "<re.Match object; span=(0, 5), match='From:'>\n"
     ]
    }
   ],
   "source": [
    "message = 'From: somebody else who has F12m or Fxxm or F! @M'\n",
    "with open('test.txt', 'w') as file:\n",
    "    file.write(message)\n",
    "\n",
    "with open('test.txt', 'r') as file:\n",
    "    print(regexp.search(r'((?:([Ff])\\w+([Mm]))|(?:[Ff](?:(.*)?\\s?(.*)?)?[Mm]))[:]?', file.read()))\n"
   ]
  },
  {
   "source": [
    "### Eighth Exercise"
   ],
   "cell_type": "markdown",
   "metadata": {}
  },
  {
   "cell_type": "code",
   "execution_count": 48,
   "metadata": {},
   "outputs": [
    {
     "output_type": "stream",
     "name": "stdout",
     "text": [
      "['csev@umich.edu', 'cwen@iupui.edu']\n"
     ]
    }
   ],
   "source": [
    "message = 'A message from csev@umich.edu to cwen@iupui.edu about meeting @2PM'\n",
    "\n",
    "with open('test.txt', 'w') as file:\n",
    "    file.write(message)\n",
    "\n",
    "with open('test.txt', 'r') as file:\n",
    "    print(regexp.findall(r'(\\w+[@]\\w+[-|_]?\\w+[.]\\w+)', file.read()))\n"
   ]
  },
  {
   "source": [
    "### Ninth Exercise"
   ],
   "cell_type": "markdown",
   "metadata": {}
  },
  {
   "cell_type": "code",
   "execution_count": 51,
   "metadata": {},
   "outputs": [
    {
     "output_type": "stream",
     "name": "stdout",
     "text": [
      "['john@aaa.comMy', 'peter@bbb.com', 'cwen@iupui.eduand', 'postmaster@collab.sakaiproject']\n"
     ]
    }
   ],
   "source": [
    "message = '''\n",
    "My name is John Smith, e-mail: john@aaa.comMy  best  friend's  Peter  Gabriel e-mail  address is peter@bbb.com.\n",
    "The  administrator  of  our  group  has  two  addresses: cwen@iupui.eduand postmaster@collab.sakaiproject.org.\n",
    "'''\n",
    "\n",
    "with open('test.txt', 'w') as file:\n",
    "    file.write(message)\n",
    "\n",
    "with open('test.txt', 'r') as file:\n",
    "    print(regexp.findall(r'(\\w+[@]\\w+[-|_]?\\w+[.]\\w+)', file.read()))\n"
   ]
  },
  {
   "source": [
    "### Tenth Exercise"
   ],
   "cell_type": "markdown",
   "metadata": {}
  },
  {
   "cell_type": "code",
   "execution_count": 56,
   "metadata": {},
   "outputs": [
    {
     "output_type": "stream",
     "name": "stdout",
     "text": [
      "51\n"
     ]
    }
   ],
   "source": [
    "message = 'I dont remember the last 3 numbers, but the 1st 2 were 45.'\n",
    "\n",
    "with open('test.txt', 'w') as file:\n",
    "    file.write(message)\n",
    "\n",
    "with open('test.txt', 'r') as file:\n",
    "    numbersList = regexp.findall(r'(\\d+)', file.read())\n",
    "    print(sum([int(number) for number in numbersList]))\n"
   ]
  }
 ]
}