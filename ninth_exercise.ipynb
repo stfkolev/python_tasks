{
 "metadata": {
  "language_info": {
   "codemirror_mode": {
    "name": "ipython",
    "version": 3
   },
   "file_extension": ".py",
   "mimetype": "text/x-python",
   "name": "python",
   "nbconvert_exporter": "python",
   "pygments_lexer": "ipython3",
   "version": "3.9.0"
  },
  "orig_nbformat": 2,
  "kernelspec": {
   "name": "python390jvsc74a57bd0b697c9060a7d8796bff82e893694dad8ca5af1e321f9e3f0c6cd8939b3c3c614",
   "display_name": "Python 3.9.0 64-bit"
  }
 },
 "nbformat": 4,
 "nbformat_minor": 2,
 "cells": [
  {
   "source": [
    "## Ninth Exercise"
   ],
   "cell_type": "markdown",
   "metadata": {}
  },
  {
   "source": [
    "### Importing third-party libraries"
   ],
   "cell_type": "markdown",
   "metadata": {}
  },
  {
   "cell_type": "code",
   "execution_count": 1,
   "metadata": {},
   "outputs": [
    {
     "output_type": "stream",
     "name": "stderr",
     "text": [
      "WARNING: You are using pip version 20.2.3; however, version 21.1.1 is available.\n",
      "You should consider upgrading via the 'C:\\Users\\stefan.kolev\\AppData\\Local\\Programs\\Python\\Python39\\python.exe -m pip install --upgrade pip' command.\n",
      "Requirement already satisfied: numpy in c:\\users\\stefan.kolev\\appdata\\local\\programs\\python\\python39\\lib\\site-packages (1.20.1)\n"
     ]
    }
   ],
   "source": [
    "!{sys.executable} -m pip install numpy\n",
    "import numpy as np"
   ]
  },
  {
   "source": [
    "### First Exercise"
   ],
   "cell_type": "markdown",
   "metadata": {}
  },
  {
   "cell_type": "code",
   "execution_count": 38,
   "metadata": {},
   "outputs": [
    {
     "output_type": "stream",
     "name": "stdout",
     "text": [
      "True\n"
     ]
    }
   ],
   "source": [
    "limits = (2, 10)\n",
    "numbers = np.arange(3, 10)\n",
    "\n",
    "print(np.logical_and(numbers > limits[0], numbers < limits[1]).all())"
   ]
  },
  {
   "source": [
    "### Second Exercise"
   ],
   "cell_type": "markdown",
   "metadata": {}
  },
  {
   "cell_type": "code",
   "execution_count": 11,
   "metadata": {},
   "outputs": [
    {
     "output_type": "stream",
     "name": "stdout",
     "text": [
      "True\n"
     ]
    }
   ],
   "source": [
    "numbers = np.array([1, 5, 8, 18, 83])\n",
    "\n",
    "print(not np.all(np.zeros(numbers)))"
   ]
  },
  {
   "source": [
    "### Third Exercise"
   ],
   "cell_type": "markdown",
   "metadata": {}
  },
  {
   "cell_type": "code",
   "execution_count": 15,
   "metadata": {},
   "outputs": [
    {
     "output_type": "stream",
     "name": "stdout",
     "text": [
      "The array [ 1  5  8 18 83] has 5 elements with each element 4 size in bytes, which means it has allocated 20 bytes memory overall\nAnother way to show it is by using nbytes: 20 bytes allocated\n"
     ]
    }
   ],
   "source": [
    "print(f'The array {numbers} has {numbers.size} elements with each element {numbers.itemsize} size in bytes, which means it has allocated {numbers.size * numbers.itemsize} bytes memory overall')\n",
    "print(f'Another way to show it is by using nbytes: {numbers.nbytes} bytes allocated')"
   ]
  },
  {
   "source": [
    "### Fourth Exercise"
   ],
   "cell_type": "markdown",
   "metadata": {}
  },
  {
   "cell_type": "code",
   "execution_count": 17,
   "metadata": {},
   "outputs": [
    {
     "output_type": "stream",
     "name": "stdout",
     "text": [
      "[30 32 34 36 38 40 42 44 46 48 50 52 54 56 58 60 62 64 66 68 70]\n"
     ]
    }
   ],
   "source": [
    "numbers = np.arange(30, 71, 2)\n",
    "\n",
    "print(numbers)"
   ]
  },
  {
   "source": [
    "### Fifth Exercise"
   ],
   "cell_type": "markdown",
   "metadata": {}
  },
  {
   "cell_type": "code",
   "execution_count": 18,
   "metadata": {},
   "outputs": [
    {
     "output_type": "stream",
     "name": "stdout",
     "text": [
      "[[1. 0. 0.]\n [0. 1. 0.]\n [0. 0. 1.]]\n"
     ]
    }
   ],
   "source": [
    "identityMatrix = np.identity(3)\n",
    "\n",
    "print(identityMatrix)"
   ]
  },
  {
   "source": [
    "### Sixth Exercise"
   ],
   "cell_type": "markdown",
   "metadata": {}
  },
  {
   "cell_type": "code",
   "execution_count": 19,
   "metadata": {},
   "outputs": [
    {
     "output_type": "stream",
     "name": "stdout",
     "text": [
      "[ 0.  0.  0.  0.  0. 11.  0.  0.  0.  0.]\n"
     ]
    }
   ],
   "source": [
    "vector = np.zeros(10)\n",
    "vector[5] = 11\n",
    "\n",
    "print(vector)"
   ]
  },
  {
   "source": [
    "### Seventh Exercise"
   ],
   "cell_type": "markdown",
   "metadata": {}
  },
  {
   "cell_type": "code",
   "execution_count": 26,
   "metadata": {},
   "outputs": [
    {
     "output_type": "stream",
     "name": "stdout",
     "text": [
      "[1 2 3 4 5 6 7 8 9]\n[ 5  6  7  8  9 10 11 12 13 14]\n[5 6 7 8 9]\n"
     ]
    }
   ],
   "source": [
    "numbers = np.arange(1, 10)\n",
    "numbers2 = np.arange(5, 15)\n",
    "\n",
    "print(numbers)\n",
    "print(numbers2)\n",
    "\n",
    "print(np.intersect1d(numbers, numbers2))"
   ]
  },
  {
   "source": [
    "### Eighth Exercise"
   ],
   "cell_type": "markdown",
   "metadata": {}
  },
  {
   "cell_type": "code",
   "execution_count": 27,
   "metadata": {},
   "outputs": [
    {
     "output_type": "stream",
     "name": "stdout",
     "text": [
      "[ 1  3  4  5 38]\n"
     ]
    }
   ],
   "source": [
    "numbers = [1, 1, 1, 5, 38, 4, 4, 3]\n",
    "\n",
    "print(np.unique(numbers))"
   ]
  },
  {
   "source": [
    "### Ninth exercise"
   ],
   "cell_type": "markdown",
   "metadata": {}
  },
  {
   "source": [
    "numbers = np.arange(1, 7).reshape((3, 2))\n",
    "\n",
    "print(numbers)"
   ],
   "cell_type": "code",
   "metadata": {},
   "execution_count": 31,
   "outputs": [
    {
     "output_type": "stream",
     "name": "stdout",
     "text": [
      "[[1 2]\n [3 4]\n [5 6]]\n"
     ]
    }
   ]
  },
  {
   "source": [
    "### Tenth Exercise"
   ],
   "cell_type": "markdown",
   "metadata": {}
  },
  {
   "cell_type": "code",
   "execution_count": 32,
   "metadata": {},
   "outputs": [
    {
     "output_type": "stream",
     "name": "stdout",
     "text": [
      "[[4 0 0 0]\n [0 5 0 0]\n [0 0 6 0]\n [0 0 0 7]]\n"
     ]
    }
   ],
   "source": [
    "print(np.diagflat(np.arange(4, 8)))"
   ]
  }
 ]
}