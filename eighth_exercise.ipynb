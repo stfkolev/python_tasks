{
 "metadata": {
  "language_info": {
   "codemirror_mode": {
    "name": "ipython",
    "version": 3
   },
   "file_extension": ".py",
   "mimetype": "text/x-python",
   "name": "python",
   "nbconvert_exporter": "python",
   "pygments_lexer": "ipython3",
   "version": "3.9.0-final"
  },
  "orig_nbformat": 2,
  "kernelspec": {
   "name": "python390jvsc74a57bd0b697c9060a7d8796bff82e893694dad8ca5af1e321f9e3f0c6cd8939b3c3c614",
   "display_name": "Python 3.9.0 64-bit"
  }
 },
 "nbformat": 4,
 "nbformat_minor": 2,
 "cells": [
  {
   "source": [
    "# <center> Eighth Exercise </center>"
   ],
   "cell_type": "markdown",
   "metadata": {}
  },
  {
   "source": [
    "### Importing third-party libraries"
   ],
   "cell_type": "markdown",
   "metadata": {}
  },
  {
   "cell_type": "code",
   "execution_count": 39,
   "metadata": {},
   "outputs": [
    {
     "output_type": "stream",
     "name": "stdout",
     "text": [
      "Requirement already satisfied: Faker in c:\\users\\stefan.kolev\\appdata\\local\\programs\\python\\python39\\lib\\site-packages (8.1.0)\n",
      "Requirement already satisfied: text-unidecode==1.3 in c:\\users\\stefan.kolev\\appdata\\local\\programs\\python\\python39\\lib\\site-packages (from Faker) (1.3)\n",
      "Requirement already satisfied: python-dateutil>=2.4 in c:\\users\\stefan.kolev\\appdata\\local\\programs\\python\\python39\\lib\\site-packages (from Faker) (2.8.1)\n",
      "Requirement already satisfied: six>=1.5 in c:\\users\\stefan.kolev\\appdata\\local\\programs\\python\\python39\\lib\\site-packages (from python-dateutil>=2.4->Faker) (1.15.0)\n",
      "WARNING: You are using pip version 20.2.3; however, version 21.0.1 is available.\n",
      "You should consider upgrading via the 'C:\\Users\\stefan.kolev\\AppData\\Local\\Programs\\Python\\Python39\\python.exe -m pip install --upgrade pip' command.\n"
     ]
    }
   ],
   "source": [
    "import sqlite3, sys\n",
    "from sqlite3 import Error\n",
    "from shutil import copyfile\n",
    "\n",
    "!{sys.executable} -m pip install Faker\n",
    "from faker import Faker\n"
   ]
  },
  {
   "source": [
    "### Create database"
   ],
   "cell_type": "markdown",
   "metadata": {}
  },
  {
   "cell_type": "code",
   "execution_count": 28,
   "metadata": {},
   "outputs": [],
   "source": [
    "def dbConnection(fileName: str) -> sqlite3.Connection:\n",
    "    connection = None\n",
    "    try:\n",
    "        connection = sqlite3.connect(fileName)\n",
    "        return connection\n",
    "    except Error as err:\n",
    "        print(err)\n",
    "\n",
    "    return connection\n",
    "    \n",
    "connection = dbConnection('test.db')"
   ]
  },
  {
   "source": [
    "### First exercise"
   ],
   "cell_type": "markdown",
   "metadata": {}
  },
  {
   "cell_type": "code",
   "execution_count": 29,
   "metadata": {
    "tags": []
   },
   "outputs": [
    {
     "output_type": "stream",
     "name": "stdout",
     "text": [
      "[(1, 'Kurt Rodriguez', 13, '10650 Elizabeth Drive\\nSparksmouth, OR 72991', 6254045.11465328), (3, 'Eric Roy', 47, '0404 Smith Square Apt. 917\\nRodriguezfurt, WV 40818', 3.6228585123926), (4, 'Amanda Martin', 46, '70624 Christopher Islands\\nWest Danielfort, GA 90030', 4749850481199.0), (5, 'Stephanie Cuevas', 20, '75222 Candace Trace Suite 787\\nGallagherview, NJ 04891', 60795023163.2349), (6, 'Alexander Singleton', 30, '692 Jennifer Via\\nTammyshire, HI 81468', 9270969215.63091), (7, 'Tim Richardson', 19, '39094 Chelsea Junction\\nEast James, RI 95923', 90052.496806958), (8, 'Megan Bowen', 60, '41313 Cross Pike Suite 585\\nNorth Dan, CT 21133', 9620666.10952312), (9, 'John Greer', 63, '888 Humphrey Mills\\nNorth Jessicaton, MI 29238', 36609864070.1546), (10, 'Glenda Bennett', 53, '6758 John Canyon Apt. 130\\nYoungbury, ME 02051', 32.41581924284), (11, 'Dr. Troy Black MD', 47, '70176 Lynch Circles\\nRichardsonview, WI 94768', 246569874308.768), (12, 'Karen Dixon', 43, 'PSC 7570, Box 0135\\nAPO AP 53257', 89.1129604338899), (13, 'Lisa Baker', 18, '4849 Sarah Loaf Suite 092\\nEast Tiffany, KY 72303', 1082.95172943425), (14, 'James Larson', 29, '2288 Robbins Club\\nHernandezberg, CO 25407', 16158.3556945361), (15, 'Christopher Romero', 54, '411 Turner Circle\\nPort Davidborough, NE 43291', 22.8928351737691), (16, 'Blake Porter', 62, '5243 Christina Mountain Suite 218\\nPort Rebeccachester, WY 45362', 78698.5885717865), (17, 'Nicholas Roman', 12, '9573 Bruce Locks\\nWhitemouth, MA 53395', 1.99903919078958), (18, 'Wesley Hurley', 10, '436 Shelly Mount\\nMillsstad, RI 53719', 96196.67928737), (19, 'Erik Jones', 31, '509 Stephanie Harbor Suite 416\\nNew Nancy, NM 05343', 25151.5446187483), (20, 'John Hernandez', 59, '454 Rangel Road\\nLake Tinamouth, CT 81950', 221685202911.398), (21, 'Shawn Curry', 7, '32961 Garcia Cliffs Apt. 569\\nNorth Lindsay, WI 83946', 3331.8121117236), (22, 'Mary Munoz', 5, '42596 Jackson Mountains Apt. 528\\nLake Justin, NV 75935', 944921483326.1), (23, 'Autumn Camacho', 48, '359 Mary Ways Suite 766\\nPort Matthew, DE 14721', 9656253859705.26), (24, 'Stephen Allen', 3, '114 Robert Port Apt. 668\\nJenniferland, NC 00653', 19.963079474844), (25, 'Pam Lawson', 26, '4945 Long Forges Suite 861\\nNew Russell, NC 86721', 3301474023047.48), (26, 'Jennifer Nguyen', 25, '299 Jacob Prairie Apt. 378\\nRodriguezport, NV 37052', 980888108.717796), (27, 'Shawn Benitez', 62, '143 Derek Falls Apt. 654\\nLake Johnny, KY 40490', 2.98642315298273), (28, 'Melissa Newman', 38, '554 Lee Creek\\nTheresaville, VA 42898', 50690173107546.5), (29, 'John Mcdowell', 44, '3114 Duncan Burgs Suite 570\\nVictorport, NM 76926', 48679406291582.9), (30, 'Beth Hartman', 37, '631 Pratt Terrace Suite 625\\nWest Douglas, TN 72448', 468.146350634622), (31, 'Brenda Campbell', 41, '3611 Miguel Turnpike\\nLake Michelle, OH 19634', 135978.914942766), (32, 'Joseph Herrera', 65, '20996 Gary Flats\\nGomezville, SD 98200', 4028428043872.2), (33, 'Justin Richards', 51, '080 Frey Stravenue Suite 192\\nPort Christopherton, LA 78306', 7203702.46888517), (34, 'Matthew Lara', 34, '16985 Melissa Square\\nSouth Allison, KY 32641', 196023973.369876), (35, 'Stephanie Guzman', 18, '55797 Shaw Springs\\nThomasborough, UT 89671', 4975644901207.19), (36, 'Monica Nguyen', 40, '62287 Branch Highway Suite 584\\nRoseton, OH 78242', 984.172088031314), (37, 'Gabriela Riley', 3, '5247 Bridges Mountain Apt. 583\\nNorth Albert, DE 11226', 6926016620.851), (38, 'Mary Ortiz', 27, 'Unit 5582 Box 7404\\nDPO AE 95604', 50894.5778327914), (39, 'Aaron Romero', 29, '8842 Joshua Mountains\\nNorth Markmouth, MA 83480', 5022174243939.47), (40, 'Roy Garcia', 23, '300 Sherri Highway\\nRyanberg, ME 20739', 443017710.916217)]\n(1, 'Kurt Rodriguez', 13, '10650 Elizabeth Drive\\nSparksmouth, OR 72991', 6254045.11465328)\n(1, 'Kurt Rodriguez', 13, '10650 Elizabeth Drive\\nSparksmouth, OR 72991', 5688599910.55785)\n(4, 'Amanda Martin', 46, '70624 Christopher Islands\\nWest Danielfort, GA 90030', 4749850481199.0)\n(4, 'Amanda Martin', 46, '96658 Christopher Pines\\nDustinberg, CO 83779', 4749850481199.0)\n\n\nMininum Salary: 1.99903919078958 -- Average Salary: 3400961775357.9365 -- Maximum Salary: 50690173107546.5\n\n\n[(4, 'Amanda Martin', 46, '96658 Christopher Pines\\nDustinberg, CO 83779', 4749850481199.0), (23, 'Autumn Camacho', 48, '359 Mary Ways Suite 766\\nPort Matthew, DE 14721', 9656253859705.26), (28, 'Melissa Newman', 38, '554 Lee Creek\\nTheresaville, VA 42898', 50690173107546.5), (29, 'John Mcdowell', 44, '3114 Duncan Burgs Suite 570\\nVictorport, NM 76926', 48679406291582.9), (32, 'Joseph Herrera', 65, '20996 Gary Flats\\nGomezville, SD 98200', 4028428043872.2), (35, 'Stephanie Guzman', 18, '55797 Shaw Springs\\nThomasborough, UT 89671', 4975644901207.19), (39, 'Aaron Romero', 29, '8842 Joshua Mountains\\nNorth Markmouth, MA 83480', 5022174243939.47)]\n"
     ]
    }
   ],
   "source": [
    "try:\n",
    "    cursor = connection.cursor()\n",
    "    cursor.execute('''CREATE TABLE IF NOT EXISTS company (\n",
    "        id INTEGER PRIMARY KEY,\n",
    "        name VARCHAR NOT NULL,\n",
    "        age INTEGER,\n",
    "        address VARCHAR,\n",
    "        salary REAL\n",
    "    );''')\n",
    "\n",
    "    ###############\n",
    "    # Insert data #\n",
    "    ###############\n",
    "    for _ in range(10):\n",
    "        seeder = Faker()\n",
    "        cursor.execute('INSERT INTO company(name, age, address, salary) VALUES(?, ?, ?, ?)', (seeder.name(), seeder.random_int(1, 65), seeder.address(), seeder.pyfloat(positive=True)))\n",
    "\n",
    "    connection.commit()\n",
    "    \n",
    "    ###############\n",
    "    # Select data #\n",
    "    ###############\n",
    "    employees = cursor.execute('SELECT * FROM company').fetchall()\n",
    "    print([employee for employee in employees])\n",
    "    \n",
    "    ###############\n",
    "    # Update data #\n",
    "    ###############\n",
    "    print(cursor.execute('SELECT * FROM company where id = ?', (1, )).fetchone())\n",
    "\n",
    "    cursor.execute('UPDATE company SET salary = ? WHERE id = ?', (seeder.pyfloat(positive=True), 1))\n",
    "\n",
    "    # Select updated record\n",
    "    print(cursor.execute('SELECT * FROM company where id = ?', (1, ) ).fetchone())    \n",
    "\n",
    "    ###############\n",
    "    # Update data #\n",
    "    ###############\n",
    "     # Select record before update\n",
    "    print(cursor.execute('SELECT * FROM company where id = ?', (4, )).fetchone())\n",
    "\n",
    "    cursor.execute('UPDATE company SET address = ? WHERE id = ?', (seeder.address(), 4))\n",
    "\n",
    "    # Select updated record\n",
    "    print(cursor.execute('SELECT * FROM company where id = ?', (4, )).fetchone())\n",
    "\n",
    "    ###############\n",
    "    # Delete data #\n",
    "    ###############\n",
    "    cursor.execute('DELETE FROM company where id = ?', (2, ))\n",
    "    connection.commit()\n",
    "\n",
    "    ###################\n",
    "    # Statistics data #\n",
    "    ###################\n",
    "    minSalary, avgSalary, maxSalary = cursor.execute('SELECT MIN(salary) AS minSalary, AVG(salary) AS avgSalary, MAX(salary) AS maxSalary FROM company').fetchone()\n",
    "\n",
    "    print(f'\\n\\nMininum Salary: {minSalary} -- Average Salary: {avgSalary} -- Maximum Salary: {maxSalary}\\n\\n')\n",
    "    print(cursor.execute('SELECT * FROM company WHERE salary > ?', (avgSalary,)).fetchall())\n",
    "except Error as err:\n",
    "    print(err)"
   ]
  },
  {
   "source": [
    "### Second Exercise"
   ],
   "cell_type": "markdown",
   "metadata": {}
  },
  {
   "cell_type": "code",
   "execution_count": null,
   "metadata": {},
   "outputs": [],
   "source": []
  },
  {
   "source": [
    "### Close database connection"
   ],
   "cell_type": "markdown",
   "metadata": {}
  },
  {
   "cell_type": "code",
   "execution_count": 30,
   "metadata": {},
   "outputs": [],
   "source": [
    "connection.close()"
   ]
  },
  {
   "source": [
    "## <center> Extra Exercises </center>"
   ],
   "cell_type": "markdown",
   "metadata": {}
  },
  {
   "source": [
    "### First Exercise"
   ],
   "cell_type": "markdown",
   "metadata": {}
  },
  {
   "cell_type": "code",
   "execution_count": 31,
   "metadata": {},
   "outputs": [
    {
     "output_type": "stream",
     "name": "stdout",
     "text": [
      "[(1, 'Christina Callahan'), (2, 'Mary Simpson'), (3, 'Sarah Kent'), (4, 'David Gaines'), (5, 'Michael Hamilton'), (6, 'Anita Brown'), (7, 'Nancy Torres'), (8, 'Bryan Meyers'), (9, 'Glenn Smith'), (10, 'Jeremy Lambert')]\n"
     ]
    }
   ],
   "source": [
    "conn = dbConnection('extras.db')\n",
    "\n",
    "try:\n",
    "    cursor = conn.cursor()\n",
    "    cursor.execute('''CREATE TABLE IF NOT EXISTS exercise (\n",
    "        id INTEGER PRIMARY KEY,\n",
    "        name VARCHAR NOT NULL\n",
    "    );''')\n",
    "\n",
    "    for _ in range(10):\n",
    "        faker = Faker()\n",
    "        cursor.execute('INSERT INTO exercise(name) VALUES(?)', (faker.name(),))\n",
    "        \n",
    "    print(cursor.execute('SELECT * FROM exercise').fetchall())\n",
    "except Error as err:\n",
    "    print(err)\n"
   ]
  },
  {
   "source": [
    "### Second Exercise"
   ],
   "cell_type": "markdown",
   "metadata": {}
  },
  {
   "cell_type": "code",
   "execution_count": 32,
   "metadata": {},
   "outputs": [
    {
     "output_type": "stream",
     "name": "stdout",
     "text": [
      "List: Tamara Dominguez -- Kim Costa -- Amanda Forbes -- Ruth Johnson -- Mrs. Tasha Rice -- James Austin -- Karen Taylor -- Sean Cook -- Nicholas Rodriguez -- Nancy Wolfe\nDatabase rows: [(1, 'Christina Callahan'), (2, 'Mary Simpson'), (3, 'Sarah Kent'), (4, 'David Gaines'), (5, 'Michael Hamilton'), (6, 'Anita Brown'), (7, 'Nancy Torres'), (8, 'Bryan Meyers'), (9, 'Glenn Smith'), (10, 'Jeremy Lambert'), (11, 'Tamara Dominguez'), (12, 'Kim Costa'), (13, 'Amanda Forbes'), (14, 'Ruth Johnson'), (15, 'Mrs. Tasha Rice'), (16, 'James Austin'), (17, 'Karen Taylor'), (18, 'Sean Cook'), (19, 'Nicholas Rodriguez'), (20, 'Nancy Wolfe')]\n"
     ]
    }
   ],
   "source": [
    "examples = []\n",
    "\n",
    "for _ in range(10):\n",
    "    seeder = Faker()\n",
    "    examples.append(seeder.name())\n",
    "\n",
    "for element in examples:\n",
    "    cursor.execute('INSERT INTO exercise(name) VALUES(?)', (element,))\n",
    "\n",
    "print('List: ' + ' -- '.join(examples))\n",
    "print('Database rows: ' + str(cursor.execute('SELECT * FROM exercise').fetchall()))"
   ]
  },
  {
   "source": [
    "### Third Exercise"
   ],
   "cell_type": "markdown",
   "metadata": {}
  },
  {
   "cell_type": "code",
   "execution_count": 33,
   "metadata": {},
   "outputs": [
    {
     "output_type": "stream",
     "name": "stdout",
     "text": [
      "Database rows: [(1, 'Christina Callahan'), (2, 'Mary Simpson'), (3, 'Sarah Kent'), (4, 'David Gaines'), (5, 'Michael Hamilton'), (6, 'Anita Brown'), (7, 'Nancy Torres'), (8, 'Bryan Meyers'), (9, 'Glenn Smith'), (10, 'Jeremy Lambert'), (11, 'Tamara Dominguez'), (12, 'Kim Costa'), (13, 'Amanda Forbes'), (14, 'Ruth Johnson'), (15, 'Mrs. Tasha Rice'), (16, 'James Austin'), (17, 'Karen Taylor'), (18, 'Sean Cook'), (19, 'Nicholas Rodriguez'), (20, 'Nancy Wolfe'), (21, ''), (22, ''), (23, ''), (24, ''), (25, ''), (26, ''), (27, ''), (28, ''), (29, ''), (30, '')]\n"
     ]
    }
   ],
   "source": [
    "for element in examples:\n",
    "    cursor.execute('INSERT INTO exercise(name) VALUES(?)', (input(), ))\n",
    "\n",
    "print('Database rows: ' + str(cursor.execute('SELECT * FROM exercise').fetchall()))"
   ]
  },
  {
   "source": [
    "### Fourth Exercise"
   ],
   "cell_type": "markdown",
   "metadata": {}
  },
  {
   "cell_type": "code",
   "execution_count": 34,
   "metadata": {},
   "outputs": [
    {
     "output_type": "stream",
     "name": "stdout",
     "text": [
      "(30,)\n"
     ]
    }
   ],
   "source": [
    "print(cursor.execute('SELECT COUNT(id) as rowCount FROM exercise').fetchone())"
   ]
  },
  {
   "source": [
    "### Fifth Exercise"
   ],
   "cell_type": "markdown",
   "metadata": {}
  },
  {
   "cell_type": "code",
   "execution_count": 35,
   "metadata": {},
   "outputs": [
    {
     "output_type": "stream",
     "name": "stdout",
     "text": [
      "\n\nRecords before update:\n\n[(1, 'Christina Callahan'), (2, 'Mary Simpson'), (3, 'Sarah Kent'), (4, 'David Gaines'), (5, 'Michael Hamilton'), (6, 'Anita Brown'), (7, 'Nancy Torres'), (8, 'Bryan Meyers'), (9, 'Glenn Smith'), (10, 'Jeremy Lambert'), (11, 'Tamara Dominguez'), (12, 'Kim Costa'), (13, 'Amanda Forbes'), (14, 'Ruth Johnson'), (15, 'Mrs. Tasha Rice'), (16, 'James Austin'), (17, 'Karen Taylor'), (18, 'Sean Cook'), (19, 'Nicholas Rodriguez'), (20, 'Nancy Wolfe'), (21, ''), (22, ''), (23, ''), (24, ''), (25, ''), (26, ''), (27, ''), (28, ''), (29, ''), (30, '')]\n\n\nUpdating record with id 4...\n\n\nRecords after update:\n\n[(1, 'Christina Callahan'), (2, 'Mary Simpson'), (3, 'Sarah Kent'), (4, 'Kelly Anderson'), (5, 'Michael Hamilton'), (6, 'Anita Brown'), (7, 'Nancy Torres'), (8, 'Bryan Meyers'), (9, 'Glenn Smith'), (10, 'Jeremy Lambert'), (11, 'Tamara Dominguez'), (12, 'Kim Costa'), (13, 'Amanda Forbes'), (14, 'Ruth Johnson'), (15, 'Mrs. Tasha Rice'), (16, 'James Austin'), (17, 'Karen Taylor'), (18, 'Sean Cook'), (19, 'Nicholas Rodriguez'), (20, 'Nancy Wolfe'), (21, ''), (22, ''), (23, ''), (24, ''), (25, ''), (26, ''), (27, ''), (28, ''), (29, ''), (30, '')]\n"
     ]
    }
   ],
   "source": [
    "# Record ID\n",
    "recordId = 4\n",
    "\n",
    "# Select record before update\n",
    "print(f'\\n\\nRecords before update:\\n\\n' + str(cursor.execute('SELECT * FROM exercise').fetchall()))\n",
    "\n",
    "print(f'\\n\\nUpdating record with id {recordId}...')\n",
    "cursor.execute('UPDATE exercise SET name = ? WHERE id = ?', (Faker().name(), recordId))\n",
    "\n",
    "# Select updated record\n",
    "print(f'\\n\\nRecords after update:\\n\\n' + str(cursor.execute('SELECT * FROM exercise').fetchall()))"
   ]
  },
  {
   "source": [
    "### Sixth Exercise"
   ],
   "cell_type": "markdown",
   "metadata": {}
  },
  {
   "cell_type": "code",
   "execution_count": 36,
   "metadata": {},
   "outputs": [
    {
     "output_type": "stream",
     "name": "stdout",
     "text": [
      "Updating all records...\n\n\nRecords after update:\n\n[(1, 'asdasd'), (2, 'asdasd'), (3, 'asdasd'), (4, 'asdasd'), (5, 'asdasd'), (6, 'asdasd'), (7, 'asdasd'), (8, 'asdasd'), (9, 'asdasd'), (10, 'asdasd'), (11, 'asdasd'), (12, 'asdasd'), (13, 'asdasd'), (14, 'asdasd'), (15, 'asdasd'), (16, 'asdasd'), (17, 'asdasd'), (18, 'asdasd'), (19, 'asdasd'), (20, 'asdasd'), (21, 'asdasd'), (22, 'asdasd'), (23, 'asdasd'), (24, 'asdasd'), (25, 'asdasd'), (26, 'asdasd'), (27, 'asdasd'), (28, 'asdasd'), (29, 'asdasd'), (30, 'asdasd')]\n"
     ]
    }
   ],
   "source": [
    "print(f'Updating all records...')\n",
    "cursor.execute('UPDATE exercise SET name = ?', ('asdasd',))\n",
    "\n",
    "# Select updated record\n",
    "print(f'\\n\\nRecords after update:\\n\\n' + str(cursor.execute('SELECT * FROM exercise').fetchall()))"
   ]
  },
  {
   "source": [
    "### Seventh Exercise"
   ],
   "cell_type": "markdown",
   "metadata": {}
  },
  {
   "cell_type": "code",
   "execution_count": 37,
   "metadata": {},
   "outputs": [
    {
     "output_type": "stream",
     "name": "stdout",
     "text": [
      "\n\nRecords after delete:\n\n[(1, 'asdasd'), (2, 'asdasd'), (3, 'asdasd'), (4, 'asdasd'), (5, 'asdasd'), (6, 'asdasd'), (7, 'asdasd'), (8, 'asdasd'), (9, 'asdasd'), (10, 'asdasd'), (11, 'asdasd'), (12, 'asdasd'), (13, 'asdasd'), (14, 'asdasd'), (15, 'asdasd'), (16, 'asdasd'), (17, 'asdasd'), (18, 'asdasd'), (19, 'asdasd'), (20, 'asdasd'), (21, 'asdasd'), (22, 'asdasd'), (23, 'asdasd'), (24, 'asdasd'), (25, 'asdasd'), (26, 'asdasd'), (27, 'asdasd'), (29, 'asdasd'), (30, 'asdasd')]\n"
     ]
    }
   ],
   "source": [
    "cursor.execute('DELETE FROM exercise WHERE id = 28')\n",
    "\n",
    "# Select all records\n",
    "print(f'\\n\\nRecords after delete:\\n\\n' + str(cursor.execute('SELECT * FROM exercise').fetchall()))"
   ]
  },
  {
   "source": [
    "### Eighth Exercise"
   ],
   "cell_type": "markdown",
   "metadata": {}
  },
  {
   "cell_type": "code",
   "execution_count": 40,
   "metadata": {},
   "outputs": [
    {
     "output_type": "execute_result",
     "data": {
      "text/plain": [
       "'test.backup.db'"
      ]
     },
     "metadata": {},
     "execution_count": 40
    }
   ],
   "source": [
    "copyfile('test.db', 'test.backup.db')"
   ]
  },
  {
   "source": [
    "### Connection close"
   ],
   "cell_type": "markdown",
   "metadata": {}
  },
  {
   "cell_type": "code",
   "execution_count": 38,
   "metadata": {},
   "outputs": [],
   "source": [
    "# conn.close()"
   ]
  }
 ]
}